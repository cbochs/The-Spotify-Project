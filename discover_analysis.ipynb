{
 "cells": [
  {
   "cell_type": "code",
   "execution_count": null,
   "metadata": {},
   "outputs": [],
   "source": [
    "# user_id = 'notbobbobby'\n",
    "\n",
    "# GET PLAYLISTS\n",
    "# playlists = get_user_playlists(user_id, [discover_database=True])\n",
    "\n",
    "# GET TRACKS\n",
    "# tracks = get_user_tracks(user_id, playlists)\n",
    "\n",
    "# GET FEATURES\n",
    "# features = get_user_unique_tracks_and_features(user_id, tracks)\n",
    "\n",
    "# COMBINE INTO ONE DATAFRAME\n",
    "# df = pd.merge(tracks, playlists, how='outer', on=['playlist_id', 'playlist_name'])\n",
    "# df = pd.merge(df, features, how='outer', on=['track_id', 'track_name'])\n",
    "\n",
    "# Note: indieair showed missing songs, which indicates the discrepancies between\n",
    "#       total_tracks of the playlists and output number of tracks\n",
    "\n",
    "import os\n",
    "import pandas as pd\n",
    "import altair as alt\n",
    "\n",
    "ROOT = os.getcwd()\n",
    "def get_data(db, user, time, kind='library'):\n",
    "    if db == '_history':\n",
    "        path = os.path.expanduser(os.path.join(ROOT, db, user, '{}_{}_{}.json'.format(user, time, kind)))\n",
    "    else:\n",
    "        path = os.path.expanduser(os.path.join(ROOT, db, user, time, '{}_{}_{}.json'.format(user, time, kind)))\n",
    "    return pd.read_json(path, orient='records', lines=True)\n",
    "\n",
    "library = get_data('_db', 'notbobbobby', '2018-10-31')\n",
    "discover = get_data('_db', 'discover', '2018-10-31')\n",
    "\n",
    "history_n = get_data('_history', 'notbobbobby', '2018', kind='history')\n",
    "history_d = get_data('_history', 'deedanvy', '2018', kind='history')\n",
    "history_c = get_data('_history', 'c.bochulak', '2018', kind='history')\n",
    "history = pd.concat([history_n, history_d, history_c])\n",
    "\n",
    "from datetime import timedelta\n",
    "history['played_at'] = history['played_at'].apply(lambda t: t - timedelta(hours=6))"
   ]
  },
  {
   "cell_type": "code",
   "execution_count": null,
   "metadata": {},
   "outputs": [],
   "source": [
    "# Q: How many songs from my discover do I save each week?\n",
    "\n",
    "# A: Gather the list of all the tracks, grouped by each Discover Week\n",
    "#    Then, count the intersection of the library with the track ids of the Discover Week\n",
    "\n",
    "def find_all(ids, kind):\n",
    "    found = library[\n",
    "        library.track_id.isin(ids) &\n",
    "        library.playlist_id.isin(['saved_tracks'])] \\\n",
    "        .drop_duplicates(subset='track_id')\n",
    "    return found[kind].tolist()\n",
    "\n",
    "weekly_count = discover[discover.discover_id.isin(['notbobbobby'])] \\\n",
    "    .groupby('created_at')['track_id'] \\\n",
    "    .apply(list) \\\n",
    "    .reset_index()\n",
    "weekly_count = weekly_count \\\n",
    "    .assign(tracks=weekly_count.track_id.apply(lambda ids: find_all(ids, 'track_name'))) \\\n",
    "    .assign(albums=weekly_count.track_id.apply(lambda ids: find_all(ids, 'album'))) \\\n",
    "    .assign(artists=weekly_count.track_id.apply(lambda ids: find_all(ids, 'artists')))\n",
    "weekly_count = weekly_count \\\n",
    "    .assign(track_count=weekly_count.tracks.apply(lambda x: len(x))) \\\n",
    "    .assign(album_count=weekly_count.albums.apply(lambda x: len(x))) \\\n",
    "    .assign(artists_count=weekly_count.artists.apply(lambda x: len(x)))"
   ]
  },
  {
   "cell_type": "code",
   "execution_count": null,
   "metadata": {},
   "outputs": [],
   "source": [
    "alt.Chart(weekly_count) \\\n",
    "    .mark_bar() \\\n",
    "    .encode(\n",
    "        x=alt.X('created_at:T'),\n",
    "        y=alt.Y(\n",
    "            'track_count:Q',\n",
    "            scale=alt.Scale(domain=[0, 12])),\n",
    "        color=alt.Color('track_count:Q'),\n",
    "        tooltip=[\n",
    "            alt.Tooltip('created_at:T', format='%A, %B %e, %Y'),\n",
    "            alt.Tooltip('track_count:Q', title='saved')]) \\\n",
    "    .properties(width=600)"
   ]
  }
 ],
 "metadata": {
  "kernelspec": {
   "display_name": "Python 3",
   "language": "python",
   "name": "python3"
  },
  "language_info": {
   "codemirror_mode": {
    "name": "ipython",
    "version": 3
   },
   "file_extension": ".py",
   "mimetype": "text/x-python",
   "name": "python",
   "nbconvert_exporter": "python",
   "pygments_lexer": "ipython3",
   "version": "3.6.3"
  }
 },
 "nbformat": 4,
 "nbformat_minor": 2
}
