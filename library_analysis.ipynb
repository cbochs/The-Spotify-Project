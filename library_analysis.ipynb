{
 "cells": [
  {
   "cell_type": "code",
   "execution_count": null,
   "metadata": {},
   "outputs": [],
   "source": [
    "# user_id = 'notbobbobby'\n",
    "\n",
    "# GET PLAYLISTS\n",
    "# playlists = get_user_playlists(user_id, [discover_database=True])\n",
    "\n",
    "# GET TRACKS\n",
    "# tracks = get_user_tracks(user_id, playlists)\n",
    "\n",
    "# GET FEATURES\n",
    "# features = get_user_unique_tracks_and_features(user_id, tracks)\n",
    "\n",
    "# COMBINE INTO ONE DATAFRAME\n",
    "# df = pd.merge(tracks, playlists, how='outer', on=['playlist_id', 'playlist_name'])\n",
    "# df = pd.merge(df, features, how='outer', on=['track_id', 'track_name'])\n",
    "\n",
    "# Note: indieair showed missing songs, which indicates the discrepancies between\n",
    "#       total_tracks of the playlists and output number of tracks\n",
    "\n",
    "import os\n",
    "import pandas as pd\n",
    "import altair as alt\n",
    "\n",
    "ROOT = os.getcwd()\n",
    "def get_data(db, user, time, kind='library'):\n",
    "    if db == '_history':\n",
    "        path = os.path.expanduser(os.path.join(ROOT, db, user, '{}_{}_{}.json'.format(user, time, kind)))\n",
    "    else:\n",
    "        path = os.path.expanduser(os.path.join(ROOT, db, user, time, '{}_{}_{}.json'.format(user, time, kind)))\n",
    "    return pd.read_json(path, orient='records', lines=True)\n",
    "\n",
    "library = get_data('_db', 'notbobbobby', '2018-10-31')\n",
    "discover = get_data('_db', 'discover', '2018-10-31')\n",
    "\n",
    "history_n = get_data('_history', 'notbobbobby', '2018', kind='history')\n",
    "history_d = get_data('_history', 'deedanvy', '2018', kind='history')\n",
    "history_c = get_data('_history', 'c.bochulak', '2018', kind='history')\n",
    "history = pd.concat([history_n, history_d, history_c])\n",
    "\n",
    "from datetime import timedelta\n",
    "history['played_at'] = history['played_at'].apply(lambda t: t - timedelta(hours=6))"
   ]
  },
  {
   "cell_type": "code",
   "execution_count": null,
   "metadata": {},
   "outputs": [],
   "source": [
    "from sklearn.decomposition import PCA\n",
    "from sklearn import preprocessing\n",
    "\n",
    "def analyze(playlist_name, included_columns):\n",
    "    playlist = library[library.playlist_name.isin([playlist_name])]\n",
    "    pca = PCA(n_components=len(included_columns))\n",
    "    result = pca.fit_transform(playlist[columns].values)\n",
    "    return playlist \\\n",
    "        .assign(pca_one=result[:,-1]) \\\n",
    "        .assign(pca_two=result[:,-2])\n",
    "\n",
    "columns = ['danceability', 'energy', 'valence', 'instrumentalness']\n",
    "analysis = pd.concat([analyze(name, columns) for name in [\"Vexento n' Chill\", 'Seltic']])"
   ]
  },
  {
   "cell_type": "code",
   "execution_count": null,
   "metadata": {},
   "outputs": [],
   "source": [
    "from sklearn.manifold import TSNE\n",
    "\n",
    "#TSNE(n_components=2, verbose=1, perplexity=40, n_iter=300)\n",
    "def analyze_tsne(playlist_name, included_columns):\n",
    "    playlist = library[library.playlist_name.isin([playlist_name])]\n",
    "    tsne = TSNE(n_components=2, verbose=1, perplexity=40, n_iter=300)\n",
    "    result = tsne.fit_transform(playlist[columns].values)\n",
    "    return playlist \\\n",
    "        .assign(pca_one=result[:,0]) \\\n",
    "        .assign(pca_two=result[:,1])\n",
    "\n",
    "columns = ['danceability', 'energy', 'valence', 'instrumentalness']\n",
    "analysis = pd.concat([analyze(name, columns) for name in [\"Vexento n' Chill\", 'Seltic']])"
   ]
  },
  {
   "cell_type": "code",
   "execution_count": null,
   "metadata": {},
   "outputs": [],
   "source": [
    "alt.Chart(analysis) \\\n",
    "    .mark_circle() \\\n",
    "    .encode(\n",
    "        x='pca_one:Q',\n",
    "        y='pca_two:Q',\n",
    "        color='playlist_name:N')"
   ]
  }
 ],
 "metadata": {
  "kernelspec": {
   "display_name": "Python 3",
   "language": "python",
   "name": "python3"
  },
  "language_info": {
   "codemirror_mode": {
    "name": "ipython",
    "version": 3
   },
   "file_extension": ".py",
   "mimetype": "text/x-python",
   "name": "python",
   "nbconvert_exporter": "python",
   "pygments_lexer": "ipython3",
   "version": "3.6.3"
  }
 },
 "nbformat": 4,
 "nbformat_minor": 2
}
